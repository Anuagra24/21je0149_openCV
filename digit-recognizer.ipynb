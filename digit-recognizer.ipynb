{
 "cells": [
  {
   "cell_type": "code",
   "execution_count": 1,
   "id": "b6993f2e",
   "metadata": {
    "_cell_guid": "b1076dfc-b9ad-4769-8c92-a6c4dae69d19",
    "_uuid": "8f2839f25d086af736a60e9eeb907d3b93b6e0e5",
    "execution": {
     "iopub.execute_input": "2024-02-12T19:23:12.208034Z",
     "iopub.status.busy": "2024-02-12T19:23:12.207562Z",
     "iopub.status.idle": "2024-02-12T19:23:13.268545Z",
     "shell.execute_reply": "2024-02-12T19:23:13.267071Z"
    },
    "papermill": {
     "duration": 1.073149,
     "end_time": "2024-02-12T19:23:13.271336",
     "exception": false,
     "start_time": "2024-02-12T19:23:12.198187",
     "status": "completed"
    },
    "tags": []
   },
   "outputs": [
    {
     "name": "stdout",
     "output_type": "stream",
     "text": [
      "/kaggle/input/digit-recognizer/sample_submission.csv\n",
      "/kaggle/input/digit-recognizer/train.csv\n",
      "/kaggle/input/digit-recognizer/test.csv\n"
     ]
    }
   ],
   "source": [
    "# This Python 3 environment comes with many helpful analytics libraries installed\n",
    "# It is defined by the kaggle/python Docker image: https://github.com/kaggle/docker-python\n",
    "# For example, here's several helpful packages to load\n",
    "\n",
    "import numpy as np # linear algebra\n",
    "import pandas as pd # data processing, CSV file I/O (e.g. pd.read_csv)\n",
    "\n",
    "# Input data files are available in the read-only \"../input/\" directory\n",
    "# For example, running this (by clicking run or pressing Shift+Enter) will list all files under the input directory\n",
    "\n",
    "import os\n",
    "for dirname, _, filenames in os.walk('/kaggle/input'):\n",
    "    for filename in filenames:\n",
    "        print(os.path.join(dirname, filename))\n",
    "\n",
    "# You can write up to 20GB to the current directory (/kaggle/working/) that gets preserved as output when you create a version using \"Save & Run All\" \n",
    "# You can also write temporary files to /kaggle/temp/, but they won't be saved outside of the current session"
   ]
  },
  {
   "cell_type": "code",
   "execution_count": 2,
   "id": "790ed2dc",
   "metadata": {
    "execution": {
     "iopub.execute_input": "2024-02-12T19:23:13.288073Z",
     "iopub.status.busy": "2024-02-12T19:23:13.287472Z",
     "iopub.status.idle": "2024-02-12T19:23:20.760608Z",
     "shell.execute_reply": "2024-02-12T19:23:20.759254Z"
    },
    "papermill": {
     "duration": 7.485642,
     "end_time": "2024-02-12T19:23:20.764056",
     "exception": false,
     "start_time": "2024-02-12T19:23:13.278414",
     "status": "completed"
    },
    "tags": []
   },
   "outputs": [],
   "source": [
    "train=pd.read_csv(\"/kaggle/input/digit-recognizer/train.csv\")\n",
    "test = pd.read_csv(\"/kaggle/input/digit-recognizer/test.csv\")\n"
   ]
  },
  {
   "cell_type": "code",
   "execution_count": 3,
   "id": "38242be8",
   "metadata": {
    "execution": {
     "iopub.execute_input": "2024-02-12T19:23:20.781399Z",
     "iopub.status.busy": "2024-02-12T19:23:20.780960Z",
     "iopub.status.idle": "2024-02-12T19:23:20.787543Z",
     "shell.execute_reply": "2024-02-12T19:23:20.786119Z"
    },
    "papermill": {
     "duration": 0.019457,
     "end_time": "2024-02-12T19:23:20.791070",
     "exception": false,
     "start_time": "2024-02-12T19:23:20.771613",
     "status": "completed"
    },
    "tags": []
   },
   "outputs": [
    {
     "name": "stdout",
     "output_type": "stream",
     "text": [
      "(42000, 785)\n"
     ]
    }
   ],
   "source": [
    "train.head()\n",
    "print(train.shape)"
   ]
  },
  {
   "cell_type": "code",
   "execution_count": 4,
   "id": "59949c74",
   "metadata": {
    "execution": {
     "iopub.execute_input": "2024-02-12T19:23:20.806924Z",
     "iopub.status.busy": "2024-02-12T19:23:20.806484Z",
     "iopub.status.idle": "2024-02-12T19:23:20.835333Z",
     "shell.execute_reply": "2024-02-12T19:23:20.834108Z"
    },
    "papermill": {
     "duration": 0.040256,
     "end_time": "2024-02-12T19:23:20.838281",
     "exception": false,
     "start_time": "2024-02-12T19:23:20.798025",
     "status": "completed"
    },
    "tags": []
   },
   "outputs": [
    {
     "data": {
      "text/html": [
       "<div>\n",
       "<style scoped>\n",
       "    .dataframe tbody tr th:only-of-type {\n",
       "        vertical-align: middle;\n",
       "    }\n",
       "\n",
       "    .dataframe tbody tr th {\n",
       "        vertical-align: top;\n",
       "    }\n",
       "\n",
       "    .dataframe thead th {\n",
       "        text-align: right;\n",
       "    }\n",
       "</style>\n",
       "<table border=\"1\" class=\"dataframe\">\n",
       "  <thead>\n",
       "    <tr style=\"text-align: right;\">\n",
       "      <th></th>\n",
       "      <th>pixel0</th>\n",
       "      <th>pixel1</th>\n",
       "      <th>pixel2</th>\n",
       "      <th>pixel3</th>\n",
       "      <th>pixel4</th>\n",
       "      <th>pixel5</th>\n",
       "      <th>pixel6</th>\n",
       "      <th>pixel7</th>\n",
       "      <th>pixel8</th>\n",
       "      <th>pixel9</th>\n",
       "      <th>...</th>\n",
       "      <th>pixel774</th>\n",
       "      <th>pixel775</th>\n",
       "      <th>pixel776</th>\n",
       "      <th>pixel777</th>\n",
       "      <th>pixel778</th>\n",
       "      <th>pixel779</th>\n",
       "      <th>pixel780</th>\n",
       "      <th>pixel781</th>\n",
       "      <th>pixel782</th>\n",
       "      <th>pixel783</th>\n",
       "    </tr>\n",
       "  </thead>\n",
       "  <tbody>\n",
       "    <tr>\n",
       "      <th>0</th>\n",
       "      <td>0</td>\n",
       "      <td>0</td>\n",
       "      <td>0</td>\n",
       "      <td>0</td>\n",
       "      <td>0</td>\n",
       "      <td>0</td>\n",
       "      <td>0</td>\n",
       "      <td>0</td>\n",
       "      <td>0</td>\n",
       "      <td>0</td>\n",
       "      <td>...</td>\n",
       "      <td>0</td>\n",
       "      <td>0</td>\n",
       "      <td>0</td>\n",
       "      <td>0</td>\n",
       "      <td>0</td>\n",
       "      <td>0</td>\n",
       "      <td>0</td>\n",
       "      <td>0</td>\n",
       "      <td>0</td>\n",
       "      <td>0</td>\n",
       "    </tr>\n",
       "    <tr>\n",
       "      <th>1</th>\n",
       "      <td>0</td>\n",
       "      <td>0</td>\n",
       "      <td>0</td>\n",
       "      <td>0</td>\n",
       "      <td>0</td>\n",
       "      <td>0</td>\n",
       "      <td>0</td>\n",
       "      <td>0</td>\n",
       "      <td>0</td>\n",
       "      <td>0</td>\n",
       "      <td>...</td>\n",
       "      <td>0</td>\n",
       "      <td>0</td>\n",
       "      <td>0</td>\n",
       "      <td>0</td>\n",
       "      <td>0</td>\n",
       "      <td>0</td>\n",
       "      <td>0</td>\n",
       "      <td>0</td>\n",
       "      <td>0</td>\n",
       "      <td>0</td>\n",
       "    </tr>\n",
       "    <tr>\n",
       "      <th>2</th>\n",
       "      <td>0</td>\n",
       "      <td>0</td>\n",
       "      <td>0</td>\n",
       "      <td>0</td>\n",
       "      <td>0</td>\n",
       "      <td>0</td>\n",
       "      <td>0</td>\n",
       "      <td>0</td>\n",
       "      <td>0</td>\n",
       "      <td>0</td>\n",
       "      <td>...</td>\n",
       "      <td>0</td>\n",
       "      <td>0</td>\n",
       "      <td>0</td>\n",
       "      <td>0</td>\n",
       "      <td>0</td>\n",
       "      <td>0</td>\n",
       "      <td>0</td>\n",
       "      <td>0</td>\n",
       "      <td>0</td>\n",
       "      <td>0</td>\n",
       "    </tr>\n",
       "    <tr>\n",
       "      <th>3</th>\n",
       "      <td>0</td>\n",
       "      <td>0</td>\n",
       "      <td>0</td>\n",
       "      <td>0</td>\n",
       "      <td>0</td>\n",
       "      <td>0</td>\n",
       "      <td>0</td>\n",
       "      <td>0</td>\n",
       "      <td>0</td>\n",
       "      <td>0</td>\n",
       "      <td>...</td>\n",
       "      <td>0</td>\n",
       "      <td>0</td>\n",
       "      <td>0</td>\n",
       "      <td>0</td>\n",
       "      <td>0</td>\n",
       "      <td>0</td>\n",
       "      <td>0</td>\n",
       "      <td>0</td>\n",
       "      <td>0</td>\n",
       "      <td>0</td>\n",
       "    </tr>\n",
       "    <tr>\n",
       "      <th>4</th>\n",
       "      <td>0</td>\n",
       "      <td>0</td>\n",
       "      <td>0</td>\n",
       "      <td>0</td>\n",
       "      <td>0</td>\n",
       "      <td>0</td>\n",
       "      <td>0</td>\n",
       "      <td>0</td>\n",
       "      <td>0</td>\n",
       "      <td>0</td>\n",
       "      <td>...</td>\n",
       "      <td>0</td>\n",
       "      <td>0</td>\n",
       "      <td>0</td>\n",
       "      <td>0</td>\n",
       "      <td>0</td>\n",
       "      <td>0</td>\n",
       "      <td>0</td>\n",
       "      <td>0</td>\n",
       "      <td>0</td>\n",
       "      <td>0</td>\n",
       "    </tr>\n",
       "  </tbody>\n",
       "</table>\n",
       "<p>5 rows × 784 columns</p>\n",
       "</div>"
      ],
      "text/plain": [
       "   pixel0  pixel1  pixel2  pixel3  pixel4  pixel5  pixel6  pixel7  pixel8  \\\n",
       "0       0       0       0       0       0       0       0       0       0   \n",
       "1       0       0       0       0       0       0       0       0       0   \n",
       "2       0       0       0       0       0       0       0       0       0   \n",
       "3       0       0       0       0       0       0       0       0       0   \n",
       "4       0       0       0       0       0       0       0       0       0   \n",
       "\n",
       "   pixel9  ...  pixel774  pixel775  pixel776  pixel777  pixel778  pixel779  \\\n",
       "0       0  ...         0         0         0         0         0         0   \n",
       "1       0  ...         0         0         0         0         0         0   \n",
       "2       0  ...         0         0         0         0         0         0   \n",
       "3       0  ...         0         0         0         0         0         0   \n",
       "4       0  ...         0         0         0         0         0         0   \n",
       "\n",
       "   pixel780  pixel781  pixel782  pixel783  \n",
       "0         0         0         0         0  \n",
       "1         0         0         0         0  \n",
       "2         0         0         0         0  \n",
       "3         0         0         0         0  \n",
       "4         0         0         0         0  \n",
       "\n",
       "[5 rows x 784 columns]"
      ]
     },
     "execution_count": 4,
     "metadata": {},
     "output_type": "execute_result"
    }
   ],
   "source": [
    "test.head()\n"
   ]
  },
  {
   "cell_type": "code",
   "execution_count": 5,
   "id": "7538a4f7",
   "metadata": {
    "execution": {
     "iopub.execute_input": "2024-02-12T19:23:20.855040Z",
     "iopub.status.busy": "2024-02-12T19:23:20.854591Z",
     "iopub.status.idle": "2024-02-12T19:23:45.380882Z",
     "shell.execute_reply": "2024-02-12T19:23:45.379227Z"
    },
    "papermill": {
     "duration": 24.538826,
     "end_time": "2024-02-12T19:23:45.384379",
     "exception": false,
     "start_time": "2024-02-12T19:23:20.845553",
     "status": "completed"
    },
    "tags": []
   },
   "outputs": [
    {
     "name": "stdout",
     "output_type": "stream",
     "text": [
      "Collecting torchsummary\r\n",
      "  Downloading torchsummary-1.5.1-py3-none-any.whl (2.8 kB)\r\n",
      "Installing collected packages: torchsummary\r\n",
      "Successfully installed torchsummary-1.5.1\r\n"
     ]
    }
   ],
   "source": [
    "import torch\n",
    "import torch.nn as nn\n",
    "import torchvision.models as models\n",
    "import torchvision.transforms as transforms\n",
    "import torch.nn.functional as F\n",
    "from torch.utils.data import DataLoader\n",
    "import torchvision.datasets as datasets\n",
    "import torch.optim as optim\n",
    "import pandas as pd\n",
    "import numpy as np\n",
    "import matplotlib.pyplot as plt\n",
    "from tqdm import tqdm \n",
    "import torchvision\n",
    "!pip install torchsummary\n",
    "from torchsummary import summary"
   ]
  },
  {
   "cell_type": "code",
   "execution_count": 6,
   "id": "e9b1747f",
   "metadata": {
    "execution": {
     "iopub.execute_input": "2024-02-12T19:23:45.404799Z",
     "iopub.status.busy": "2024-02-12T19:23:45.402468Z",
     "iopub.status.idle": "2024-02-12T19:23:45.822397Z",
     "shell.execute_reply": "2024-02-12T19:23:45.820729Z"
    },
    "papermill": {
     "duration": 0.432497,
     "end_time": "2024-02-12T19:23:45.824991",
     "exception": false,
     "start_time": "2024-02-12T19:23:45.392494",
     "status": "completed"
    },
    "tags": []
   },
   "outputs": [
    {
     "name": "stdout",
     "output_type": "stream",
     "text": [
      "(42000, 784)\n"
     ]
    }
   ],
   "source": [
    "features = train.drop(columns=['label']).values\n",
    "# normalization (0-1)\n",
    "features = features / 255.0 \n",
    "print(features.shape)\n"
   ]
  },
  {
   "cell_type": "code",
   "execution_count": 7,
   "id": "4c00ea90",
   "metadata": {
    "execution": {
     "iopub.execute_input": "2024-02-12T19:23:45.842610Z",
     "iopub.status.busy": "2024-02-12T19:23:45.842179Z",
     "iopub.status.idle": "2024-02-12T19:23:45.850043Z",
     "shell.execute_reply": "2024-02-12T19:23:45.848919Z"
    },
    "papermill": {
     "duration": 0.019547,
     "end_time": "2024-02-12T19:23:45.852518",
     "exception": false,
     "start_time": "2024-02-12T19:23:45.832971",
     "status": "completed"
    },
    "tags": []
   },
   "outputs": [
    {
     "name": "stdout",
     "output_type": "stream",
     "text": [
      "(42000,)\n"
     ]
    }
   ],
   "source": [
    "labels = train['label'].values\n",
    "print(labels.shape)"
   ]
  },
  {
   "cell_type": "code",
   "execution_count": 8,
   "id": "b24d7701",
   "metadata": {
    "execution": {
     "iopub.execute_input": "2024-02-12T19:23:45.870935Z",
     "iopub.status.busy": "2024-02-12T19:23:45.869845Z",
     "iopub.status.idle": "2024-02-12T19:23:45.876025Z",
     "shell.execute_reply": "2024-02-12T19:23:45.874942Z"
    },
    "papermill": {
     "duration": 0.018736,
     "end_time": "2024-02-12T19:23:45.879313",
     "exception": false,
     "start_time": "2024-02-12T19:23:45.860577",
     "status": "completed"
    },
    "tags": []
   },
   "outputs": [
    {
     "name": "stdout",
     "output_type": "stream",
     "text": [
      "features shape:  (42000, 1, 28, 28)\n"
     ]
    }
   ],
   "source": [
    "features = features.reshape(-1,1,28,28)\n",
    "print(\"features shape: \",features.shape)"
   ]
  },
  {
   "cell_type": "code",
   "execution_count": 9,
   "id": "c4ac3692",
   "metadata": {
    "execution": {
     "iopub.execute_input": "2024-02-12T19:23:45.897808Z",
     "iopub.status.busy": "2024-02-12T19:23:45.897047Z",
     "iopub.status.idle": "2024-02-12T19:23:46.020395Z",
     "shell.execute_reply": "2024-02-12T19:23:46.019050Z"
    },
    "papermill": {
     "duration": 0.136179,
     "end_time": "2024-02-12T19:23:46.023475",
     "exception": false,
     "start_time": "2024-02-12T19:23:45.887296",
     "status": "completed"
    },
    "tags": []
   },
   "outputs": [],
   "source": [
    "# converting to torch\n",
    "features_tensor = torch.tensor(features, dtype=torch.float32)\n",
    "labels_tensor = torch.tensor(labels, dtype=torch.long)"
   ]
  },
  {
   "cell_type": "code",
   "execution_count": 10,
   "id": "3c14b82f",
   "metadata": {
    "execution": {
     "iopub.execute_input": "2024-02-12T19:23:46.042817Z",
     "iopub.status.busy": "2024-02-12T19:23:46.042019Z",
     "iopub.status.idle": "2024-02-12T19:23:46.142714Z",
     "shell.execute_reply": "2024-02-12T19:23:46.141135Z"
    },
    "papermill": {
     "duration": 0.114028,
     "end_time": "2024-02-12T19:23:46.146134",
     "exception": false,
     "start_time": "2024-02-12T19:23:46.032106",
     "status": "completed"
    },
    "tags": []
   },
   "outputs": [],
   "source": [
    "features_tensor = torch.tensor(features, dtype=torch.float32)\n",
    "labels_tensor = torch.tensor(labels, dtype=torch.long)\n",
    "\n",
    "# Create a TensorDataset(every column is a feature)\n",
    "train_dataset = torch.utils.data.TensorDataset(features_tensor, labels_tensor)\n",
    "train_loader=DataLoader(dataset=train_dataset,batch_size=64,shuffle=True)"
   ]
  },
  {
   "cell_type": "code",
   "execution_count": 11,
   "id": "82ff7cc8",
   "metadata": {
    "execution": {
     "iopub.execute_input": "2024-02-12T19:23:46.167227Z",
     "iopub.status.busy": "2024-02-12T19:23:46.166776Z",
     "iopub.status.idle": "2024-02-12T19:23:46.340996Z",
     "shell.execute_reply": "2024-02-12T19:23:46.339096Z"
    },
    "papermill": {
     "duration": 0.189409,
     "end_time": "2024-02-12T19:23:46.344049",
     "exception": false,
     "start_time": "2024-02-12T19:23:46.154640",
     "status": "completed"
    },
    "tags": []
   },
   "outputs": [
    {
     "name": "stdout",
     "output_type": "stream",
     "text": [
      "----------------------------------------------------------------\n",
      "        Layer (type)               Output Shape         Param #\n",
      "================================================================\n",
      "            Conv2d-1            [-1, 4, 26, 26]              40\n",
      "       BatchNorm2d-2            [-1, 4, 26, 26]               8\n",
      "         MaxPool2d-3            [-1, 4, 13, 13]               0\n",
      "            Conv2d-4            [-1, 8, 11, 11]             296\n",
      "       BatchNorm2d-5            [-1, 8, 11, 11]              16\n",
      "            Linear-6                   [-1, 10]           9,690\n",
      "================================================================\n",
      "Total params: 10,050\n",
      "Trainable params: 10,050\n",
      "Non-trainable params: 0\n",
      "----------------------------------------------------------------\n",
      "Input size (MB): 0.00\n",
      "Forward/backward pass size (MB): 0.06\n",
      "Params size (MB): 0.04\n",
      "Estimated Total Size (MB): 0.10\n",
      "----------------------------------------------------------------\n"
     ]
    }
   ],
   "source": [
    "class Network(nn.Module):\n",
    "    def __init__(self):\n",
    "        super(Network, self).__init__()\n",
    "        self.conv1 = nn.Conv2d(1, 4, 3)\n",
    "        self.bn1 = nn.BatchNorm2d(4)\n",
    "        self.pool = nn.MaxPool2d(2, 2)\n",
    "        self.conv2 = nn.Conv2d(4, 8, 3)\n",
    "        self.bn2 = nn.BatchNorm2d(8)\n",
    "        self.fc = nn.Linear(8 * 11 * 11, 10)\n",
    "\n",
    "    def forward(self, x):\n",
    "        x = F.relu(self.conv1(x))\n",
    "        x = self.bn1(x)\n",
    "        x = self.pool(x)\n",
    "        x = F.relu(self.conv2(x))\n",
    "        x = self.bn2(x)\n",
    "        x = x.view(x.size(0), -1)\n",
    "        x = self.fc(x)\n",
    "        return x\n",
    "    \n",
    "model=Network()\n",
    "input_size=(1,28,28)\n",
    "summary(model,input_size=input_size)"
   ]
  },
  {
   "cell_type": "code",
   "execution_count": 12,
   "id": "178da5d5",
   "metadata": {
    "execution": {
     "iopub.execute_input": "2024-02-12T19:23:46.364342Z",
     "iopub.status.busy": "2024-02-12T19:23:46.362926Z",
     "iopub.status.idle": "2024-02-12T19:23:46.370272Z",
     "shell.execute_reply": "2024-02-12T19:23:46.369244Z"
    },
    "papermill": {
     "duration": 0.020617,
     "end_time": "2024-02-12T19:23:46.372917",
     "exception": false,
     "start_time": "2024-02-12T19:23:46.352300",
     "status": "completed"
    },
    "tags": []
   },
   "outputs": [],
   "source": [
    "learning_rate=3e-4\n",
    "num_epochs=10\n",
    "loss_fn=nn.CrossEntropyLoss()\n",
    "optimizer=optim.Adam(model.parameters(),lr=learning_rate)"
   ]
  },
  {
   "cell_type": "code",
   "execution_count": 13,
   "id": "b8ac0e87",
   "metadata": {
    "execution": {
     "iopub.execute_input": "2024-02-12T19:23:46.394972Z",
     "iopub.status.busy": "2024-02-12T19:23:46.393472Z",
     "iopub.status.idle": "2024-02-12T19:24:54.964969Z",
     "shell.execute_reply": "2024-02-12T19:24:54.963434Z"
    },
    "papermill": {
     "duration": 68.585422,
     "end_time": "2024-02-12T19:24:54.967896",
     "exception": false,
     "start_time": "2024-02-12T19:23:46.382474",
     "status": "completed"
    },
    "tags": []
   },
   "outputs": [
    {
     "name": "stderr",
     "output_type": "stream",
     "text": [
      "100%|██████████| 657/657 [00:06<00:00, 98.58it/s] \n",
      "100%|██████████| 657/657 [00:06<00:00, 95.51it/s]\n",
      "100%|██████████| 657/657 [00:06<00:00, 100.66it/s]\n",
      "100%|██████████| 657/657 [00:06<00:00, 100.57it/s]\n",
      "100%|██████████| 657/657 [00:06<00:00, 101.20it/s]\n",
      "100%|██████████| 657/657 [00:06<00:00, 101.26it/s]\n",
      "100%|██████████| 657/657 [00:06<00:00, 97.27it/s] \n",
      "100%|██████████| 657/657 [00:06<00:00, 103.19it/s]\n",
      "100%|██████████| 657/657 [00:06<00:00, 104.55it/s]\n",
      "100%|██████████| 657/657 [00:06<00:00, 98.62it/s] \n"
     ]
    },
    {
     "name": "stdout",
     "output_type": "stream",
     "text": [
      "Accuracy on training set: 99.21\n"
     ]
    }
   ],
   "source": [
    "for epoch in range(num_epochs):\n",
    "    for batch_idx, (data, targets) in enumerate(tqdm(train_loader)):\n",
    "        data = data.view(-1, 1, 28, 28)\n",
    "\n",
    "        # forward\n",
    "        scores = model(data)\n",
    "        loss = loss_fn(scores, targets)\n",
    "\n",
    "        # backward\n",
    "        optimizer.zero_grad()\n",
    "        loss.backward()\n",
    "        optimizer.step()\n",
    "\n",
    "def check_accuracy(loader, model):\n",
    "    num_correct = 0\n",
    "    num_samples = 0\n",
    "    model.eval()\n",
    "\n",
    "    with torch.no_grad():\n",
    "        for x, y in loader:\n",
    "\n",
    "            scores = model(x)\n",
    "            _, predictions = scores.max(1)\n",
    "            num_correct += (predictions == y).sum()\n",
    "            num_samples += predictions.size(0)\n",
    "\n",
    "    model.train()\n",
    "    return num_correct / num_samples\n",
    "\n",
    "\n",
    "print(f\"Accuracy on training set: {check_accuracy(train_loader, model)*100:.2f}\")"
   ]
  },
  {
   "cell_type": "code",
   "execution_count": 14,
   "id": "d004fec5",
   "metadata": {
    "execution": {
     "iopub.execute_input": "2024-02-12T19:24:55.114993Z",
     "iopub.status.busy": "2024-02-12T19:24:55.114097Z",
     "iopub.status.idle": "2024-02-12T19:24:57.278139Z",
     "shell.execute_reply": "2024-02-12T19:24:57.277196Z"
    },
    "papermill": {
     "duration": 2.241692,
     "end_time": "2024-02-12T19:24:57.282005",
     "exception": false,
     "start_time": "2024-02-12T19:24:55.040313",
     "status": "completed"
    },
    "tags": []
   },
   "outputs": [],
   "source": [
    "features_test = test.values.reshape(-1, 1, 28, 28)\n",
    "\n",
    "test_tensor = torch.tensor(features_test, dtype=torch.float32) / 255.0\n",
    "\n",
    "model.eval()  \n",
    "with torch.no_grad():\n",
    "    test_predictions = model(test_tensor)\n",
    "\n",
    "model.train() \n",
    "\n",
    "predicted_labels = torch.argmax(test_predictions, dim=1).numpy()\n",
    "\n",
    "submission = pd.DataFrame({\"ImageId\": range(1, len(predicted_labels) + 1), \"Label\": predicted_labels})\n",
    "submission.to_csv(\"submission0.csv\", index=False)"
   ]
  },
  {
   "cell_type": "code",
   "execution_count": 15,
   "id": "29f1c35c",
   "metadata": {
    "execution": {
     "iopub.execute_input": "2024-02-12T19:24:57.444260Z",
     "iopub.status.busy": "2024-02-12T19:24:57.443857Z",
     "iopub.status.idle": "2024-02-12T19:24:57.456160Z",
     "shell.execute_reply": "2024-02-12T19:24:57.454815Z"
    },
    "papermill": {
     "duration": 0.08388,
     "end_time": "2024-02-12T19:24:57.458739",
     "exception": false,
     "start_time": "2024-02-12T19:24:57.374859",
     "status": "completed"
    },
    "tags": []
   },
   "outputs": [
    {
     "data": {
      "text/html": [
       "<div>\n",
       "<style scoped>\n",
       "    .dataframe tbody tr th:only-of-type {\n",
       "        vertical-align: middle;\n",
       "    }\n",
       "\n",
       "    .dataframe tbody tr th {\n",
       "        vertical-align: top;\n",
       "    }\n",
       "\n",
       "    .dataframe thead th {\n",
       "        text-align: right;\n",
       "    }\n",
       "</style>\n",
       "<table border=\"1\" class=\"dataframe\">\n",
       "  <thead>\n",
       "    <tr style=\"text-align: right;\">\n",
       "      <th></th>\n",
       "      <th>ImageId</th>\n",
       "      <th>Label</th>\n",
       "    </tr>\n",
       "  </thead>\n",
       "  <tbody>\n",
       "    <tr>\n",
       "      <th>0</th>\n",
       "      <td>1</td>\n",
       "      <td>2</td>\n",
       "    </tr>\n",
       "    <tr>\n",
       "      <th>1</th>\n",
       "      <td>2</td>\n",
       "      <td>0</td>\n",
       "    </tr>\n",
       "    <tr>\n",
       "      <th>2</th>\n",
       "      <td>3</td>\n",
       "      <td>9</td>\n",
       "    </tr>\n",
       "    <tr>\n",
       "      <th>3</th>\n",
       "      <td>4</td>\n",
       "      <td>9</td>\n",
       "    </tr>\n",
       "    <tr>\n",
       "      <th>4</th>\n",
       "      <td>5</td>\n",
       "      <td>3</td>\n",
       "    </tr>\n",
       "  </tbody>\n",
       "</table>\n",
       "</div>"
      ],
      "text/plain": [
       "   ImageId  Label\n",
       "0        1      2\n",
       "1        2      0\n",
       "2        3      9\n",
       "3        4      9\n",
       "4        5      3"
      ]
     },
     "execution_count": 15,
     "metadata": {},
     "output_type": "execute_result"
    }
   ],
   "source": [
    "submission.head()"
   ]
  },
  {
   "cell_type": "code",
   "execution_count": null,
   "id": "241f4510",
   "metadata": {
    "papermill": {
     "duration": 0.067759,
     "end_time": "2024-02-12T19:24:57.593928",
     "exception": false,
     "start_time": "2024-02-12T19:24:57.526169",
     "status": "completed"
    },
    "tags": []
   },
   "outputs": [],
   "source": []
  },
  {
   "cell_type": "code",
   "execution_count": null,
   "id": "fd5edc5d",
   "metadata": {
    "papermill": {
     "duration": 0.066926,
     "end_time": "2024-02-12T19:24:57.730924",
     "exception": false,
     "start_time": "2024-02-12T19:24:57.663998",
     "status": "completed"
    },
    "tags": []
   },
   "outputs": [],
   "source": []
  },
  {
   "cell_type": "code",
   "execution_count": null,
   "id": "a9ef5431",
   "metadata": {
    "papermill": {
     "duration": 0.066797,
     "end_time": "2024-02-12T19:24:57.865126",
     "exception": false,
     "start_time": "2024-02-12T19:24:57.798329",
     "status": "completed"
    },
    "tags": []
   },
   "outputs": [],
   "source": [
    "\n"
   ]
  }
 ],
 "metadata": {
  "kaggle": {
   "accelerator": "none",
   "dataSources": [
    {
     "databundleVersionId": 861823,
     "sourceId": 3004,
     "sourceType": "competition"
    }
   ],
   "dockerImageVersionId": 30646,
   "isGpuEnabled": false,
   "isInternetEnabled": true,
   "language": "python",
   "sourceType": "notebook"
  },
  "kernelspec": {
   "display_name": "Python 3",
   "language": "python",
   "name": "python3"
  },
  "language_info": {
   "codemirror_mode": {
    "name": "ipython",
    "version": 3
   },
   "file_extension": ".py",
   "mimetype": "text/x-python",
   "name": "python",
   "nbconvert_exporter": "python",
   "pygments_lexer": "ipython3",
   "version": "3.10.13"
  },
  "papermill": {
   "default_parameters": {},
   "duration": 110.874349,
   "end_time": "2024-02-12T19:24:59.841919",
   "environment_variables": {},
   "exception": null,
   "input_path": "__notebook__.ipynb",
   "output_path": "__notebook__.ipynb",
   "parameters": {},
   "start_time": "2024-02-12T19:23:08.967570",
   "version": "2.5.0"
  }
 },
 "nbformat": 4,
 "nbformat_minor": 5
}
